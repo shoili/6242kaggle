{
 "cells": [
  {
   "cell_type": "markdown",
   "metadata": {},
   "source": [
    "The data provided by Kaggle exists in several different files. We take a look at the data to understand it further to help us with modeling and feature generation. "
   ]
  },
  {
   "cell_type": "code",
   "execution_count": 1,
   "metadata": {
    "collapsed": true
   },
   "outputs": [],
   "source": [
    "import numpy as np \n",
    "import pandas as pd \n",
    "import os\n",
    "import gc \n",
    "import matplotlib.pyplot as plt\n",
    "# import bokeh\n",
    "%matplotlib inline\n",
    "import seaborn as sns\n",
    "p = sns.color_palette()"
   ]
  },
  {
   "cell_type": "markdown",
   "metadata": {},
   "source": [
    "The training and testing data exists in two files clicks_train and clicks_test. They have two columns of data each -\n",
    "* display_id - a set of recommendations given to a specific user\n",
    "* ad_id - the specific ad\n",
    "\n",
    "The training set also has the response column of whether the ad was clicked or not. "
   ]
  },
  {
   "cell_type": "code",
   "execution_count": 2,
   "metadata": {
    "collapsed": false
   },
   "outputs": [
    {
     "data": {
      "text/html": [
       "<div>\n",
       "<table border=\"1\" class=\"dataframe\">\n",
       "  <thead>\n",
       "    <tr style=\"text-align: right;\">\n",
       "      <th></th>\n",
       "      <th>display_id</th>\n",
       "      <th>ad_id</th>\n",
       "      <th>clicked</th>\n",
       "    </tr>\n",
       "  </thead>\n",
       "  <tbody>\n",
       "    <tr>\n",
       "      <th>0</th>\n",
       "      <td>1</td>\n",
       "      <td>42337</td>\n",
       "      <td>0</td>\n",
       "    </tr>\n",
       "    <tr>\n",
       "      <th>1</th>\n",
       "      <td>1</td>\n",
       "      <td>139684</td>\n",
       "      <td>0</td>\n",
       "    </tr>\n",
       "    <tr>\n",
       "      <th>2</th>\n",
       "      <td>1</td>\n",
       "      <td>144739</td>\n",
       "      <td>1</td>\n",
       "    </tr>\n",
       "    <tr>\n",
       "      <th>3</th>\n",
       "      <td>1</td>\n",
       "      <td>156824</td>\n",
       "      <td>0</td>\n",
       "    </tr>\n",
       "    <tr>\n",
       "      <th>4</th>\n",
       "      <td>1</td>\n",
       "      <td>279295</td>\n",
       "      <td>0</td>\n",
       "    </tr>\n",
       "  </tbody>\n",
       "</table>\n",
       "</div>"
      ],
      "text/plain": [
       "   display_id   ad_id  clicked\n",
       "0           1   42337        0\n",
       "1           1  139684        0\n",
       "2           1  144739        1\n",
       "3           1  156824        0\n",
       "4           1  279295        0"
      ]
     },
     "execution_count": 2,
     "metadata": {},
     "output_type": "execute_result"
    }
   ],
   "source": [
    "df_train = pd.read_csv('clicks_train.csv')\n",
    "df_test = pd.read_csv('clicks_test.csv')\n",
    "df_train.head()"
   ]
  },
  {
   "cell_type": "code",
   "execution_count": 8,
   "metadata": {
    "collapsed": false
   },
   "outputs": [
    {
     "name": "stdout",
     "output_type": "stream",
     "text": [
      "no of rows in training set: 87141731\n",
      "no of rows in testing set: 32225162\n"
     ]
    }
   ],
   "source": [
    "print(\"no of rows in training set:\", len(df_train))\n",
    "print(\"no of rows in testing set:\", len(df_test))"
   ]
  },
  {
   "cell_type": "code",
   "execution_count": 19,
   "metadata": {
    "collapsed": false
   },
   "outputs": [
    {
     "name": "stdout",
     "output_type": "stream",
     "text": [
      "the number of displays in the training set is 16874593\n",
      "the number of ads in the training set is 478950\n",
      "the number of displays in the testing set is 6245533\n",
      "the number of ads in the testing set is 381385\n"
     ]
    }
   ],
   "source": [
    "# df_train['display_id'].value_counts\n",
    "print(\"the number of displays in the training set is\", len(df_train['display_id'].value_counts()))\n",
    "print(\"the number of ads in the training set is\", len(df_train['ad_id'].value_counts()))\n",
    "print(\"the number of displays in the testing set is\", len(df_test['display_id'].value_counts()))\n",
    "print(\"the number of ads in the testing set is\", len(df_test['ad_id'].value_counts()))"
   ]
  },
  {
   "cell_type": "markdown",
   "metadata": {},
   "source": [
    "We have used some code from a kaggle script here to look at the data. Here we take a look at how many times each of the ads appear"
   ]
  },
  {
   "cell_type": "code",
   "execution_count": 21,
   "metadata": {
    "collapsed": false
   },
   "outputs": [
    {
     "name": "stdout",
     "output_type": "stream",
     "text": [
      "Ads that appear less than 2 times: 22.69%\n",
      "Ads that appear less than 10 times: 61.74%\n",
      "Ads that appear less than 50 times: 86.93%\n",
      "Ads that appear less than 100 times: 91.04%\n",
      "Ads that appear less than 1000 times: 97.45%\n"
     ]
    },
    {
     "data": {
      "image/png": "[encoded data removed]",
      "text/plain": [
       "<matplotlib.figure.Figure at 0x7fae0eb265c0>"
      ]
     },
     "metadata": {},
     "output_type": "display_data"
    }
   ],
   "source": [
    "# https://www.kaggle.com/anokas/outbrain-click-prediction/outbrain-eda/comments\n",
    "ad_usage_train = df_train.groupby('ad_id')['ad_id'].count()\n",
    "\n",
    "for i in [2, 10, 50, 100, 1000]:\n",
    "    print('Ads that appear less than {} times: {}%'.format(i, round((ad_usage_train < i).mean() * 100, 2)))\n",
    "\n",
    "plt.figure(figsize=(12, 6))\n",
    "plt.hist(ad_usage_train.values, bins=50, log=True)\n",
    "plt.xlabel('Number of times ad appeared', fontsize=12)\n",
    "plt.ylabel('log(Count of displays with ad)', fontsize=12)\n",
    "plt.show()"
   ]
  },
  {
   "cell_type": "markdown",
   "metadata": {},
   "source": [
    "A lot of the ads appear very few times. This indicates that we may have to use clustering to predict the clickthrough rate, especially for the ads which appear fewer times. "
   ]
  },
  {
   "cell_type": "code",
   "execution_count": 3,
   "metadata": {
    "collapsed": false
   },
   "outputs": [
    {
     "data": {
      "text/plain": [
       "18"
      ]
     },
     "execution_count": 3,
     "metadata": {},
     "output_type": "execute_result"
    }
   ],
   "source": [
    "del df_test\n",
    "del df_train\n",
    "gc.collect()"
   ]
  },
  {
   "cell_type": "markdown",
   "metadata": {},
   "source": [
    "The events file looks at the users who clicked on the ads. The timestamp is relevant to the first click in the dataset. Platform and location are also provided. "
   ]
  },
  {
   "cell_type": "code",
   "execution_count": 4,
   "metadata": {
    "collapsed": false
   },
   "outputs": [
    {
     "name": "stderr",
     "output_type": "stream",
     "text": [
      "/home/shoili/anaconda3/lib/python3.5/site-packages/IPython/core/interactiveshell.py:2723: DtypeWarning: Columns (4) have mixed types. Specify dtype option on import or set low_memory=False.\n",
      "  interactivity=interactivity, compiler=compiler, result=result)\n"
     ]
    },
    {
     "data": {
      "text/html": [
       "<div>\n",
       "<table border=\"1\" class=\"dataframe\">\n",
       "  <thead>\n",
       "    <tr style=\"text-align: right;\">\n",
       "      <th></th>\n",
       "      <th>display_id</th>\n",
       "      <th>uuid</th>\n",
       "      <th>document_id</th>\n",
       "      <th>timestamp</th>\n",
       "      <th>platform</th>\n",
       "      <th>geo_location</th>\n",
       "    </tr>\n",
       "  </thead>\n",
       "  <tbody>\n",
       "    <tr>\n",
       "      <th>0</th>\n",
       "      <td>1</td>\n",
       "      <td>cb8c55702adb93</td>\n",
       "      <td>379743</td>\n",
       "      <td>61</td>\n",
       "      <td>3</td>\n",
       "      <td>US&gt;SC&gt;519</td>\n",
       "    </tr>\n",
       "    <tr>\n",
       "      <th>1</th>\n",
       "      <td>2</td>\n",
       "      <td>79a85fa78311b9</td>\n",
       "      <td>1794259</td>\n",
       "      <td>81</td>\n",
       "      <td>2</td>\n",
       "      <td>US&gt;CA&gt;807</td>\n",
       "    </tr>\n",
       "    <tr>\n",
       "      <th>2</th>\n",
       "      <td>3</td>\n",
       "      <td>822932ce3d8757</td>\n",
       "      <td>1179111</td>\n",
       "      <td>182</td>\n",
       "      <td>2</td>\n",
       "      <td>US&gt;MI&gt;505</td>\n",
       "    </tr>\n",
       "    <tr>\n",
       "      <th>3</th>\n",
       "      <td>4</td>\n",
       "      <td>85281d0a49f7ac</td>\n",
       "      <td>1777797</td>\n",
       "      <td>234</td>\n",
       "      <td>2</td>\n",
       "      <td>US&gt;WV&gt;564</td>\n",
       "    </tr>\n",
       "    <tr>\n",
       "      <th>4</th>\n",
       "      <td>5</td>\n",
       "      <td>8d0daef4bf5b56</td>\n",
       "      <td>252458</td>\n",
       "      <td>338</td>\n",
       "      <td>2</td>\n",
       "      <td>SG&gt;00</td>\n",
       "    </tr>\n",
       "  </tbody>\n",
       "</table>\n",
       "</div>"
      ],
      "text/plain": [
       "   display_id            uuid  document_id  timestamp platform geo_location\n",
       "0           1  cb8c55702adb93       379743         61        3    US>SC>519\n",
       "1           2  79a85fa78311b9      1794259         81        2    US>CA>807\n",
       "2           3  822932ce3d8757      1179111        182        2    US>MI>505\n",
       "3           4  85281d0a49f7ac      1777797        234        2    US>WV>564\n",
       "4           5  8d0daef4bf5b56       252458        338        2        SG>00"
      ]
     },
     "execution_count": 4,
     "metadata": {},
     "output_type": "execute_result"
    }
   ],
   "source": [
    "df_events = pd.read_csv('events.csv')\n",
    "df_events.head()"
   ]
  },
  {
   "cell_type": "code",
   "execution_count": 25,
   "metadata": {
    "collapsed": false
   },
   "outputs": [
    {
     "name": "stdout",
     "output_type": "stream",
     "text": [
      "2     10684579\n",
      "1      8747280\n",
      "3      3032907\n",
      "2       291699\n",
      "1       279988\n",
      "3        83668\n",
      "\\N           5\n",
      "Name: platform, dtype: int64\n",
      "\n",
      "Unique values of platform: [3 2 1 '2' '1' '3' '\\\\N']\n"
     ]
    }
   ],
   "source": [
    "plat = df_events.platform.value_counts()\n",
    "\n",
    "print(plat)\n",
    "print('\\nUnique values of platform:', df_events.platform.unique())"
   ]
  },
  {
   "cell_type": "markdown",
   "metadata": {},
   "source": [
    "We see that the values of platform (tablet, pc or phone) exist as both floats and strings so some cleaning may be needed. "
   ]
  },
  {
   "cell_type": "code",
   "execution_count": 30,
   "metadata": {
    "collapsed": false
   },
   "outputs": [
    {
     "data": {
      "text/plain": [
       "<matplotlib.text.Text at 0x7fad1da720f0>"
      ]
     },
     "execution_count": 30,
     "metadata": {},
     "output_type": "execute_result"
    },
    {
     "data": {
      "image/png": "[encoded data removed]",
      "text/plain": [
       "<matplotlib.figure.Figure at 0x7fadb7017320>"
      ]
     },
     "metadata": {},
     "output_type": "display_data"
    }
   ],
   "source": [
    "df_events.platform = df_events.platform.astype(str)\n",
    "plat = df_events.platform.value_counts()\n",
    "\n",
    "plt.figure(figsize=(12,4))\n",
    "sns.barplot(plat.index, plat.values, alpha=0.8, color=p[2])\n",
    "plt.xlabel('Platform', fontsize=12)\n",
    "plt.ylabel('Occurence count', fontsize=12)"
   ]
  },
  {
   "cell_type": "markdown",
   "metadata": {},
   "source": [
    "We can see that we have data points from all devices"
   ]
  },
  {
   "cell_type": "code",
   "execution_count": 5,
   "metadata": {
    "collapsed": true
   },
   "outputs": [],
   "source": [
    "del df_events\n",
    "gc.collect()"
   ]
  },
  {
   "cell_type": "markdown",
   "metadata": {},
   "source": [
    "The dataset also provides a grouping of the documents based on topics. "
   ]
  },
  {
   "cell_type": "code",
   "execution_count": 10,
   "metadata": {
    "collapsed": false
   },
   "outputs": [
    {
     "data": {
      "text/plain": [
       "11325960"
      ]
     },
     "execution_count": 10,
     "metadata": {},
     "output_type": "execute_result"
    }
   ],
   "source": [
    "topics = pd.read_csv('documents_topics.csv')\n",
    "len(topics)"
   ]
  },
  {
   "cell_type": "code",
   "execution_count": 14,
   "metadata": {
    "collapsed": false
   },
   "outputs": [
    {
     "name": "stdout",
     "output_type": "stream",
     "text": [
      "Number of topics that appear more than 10000 times: 201\n",
      "Number of topics that appear more than 50000 times: 86\n",
      "Number of topics that appear more than 100000 times: 22\n",
      "Number of topics that appear more than 200000 times: 3\n"
     ]
    },
    {
     "data": {
      "image/png": "[encoded data removed]",
      "text/plain": [
       "<matplotlib.figure.Figure at 0x7fd8d751f9e8>"
      ]
     },
     "metadata": {},
     "output_type": "display_data"
    }
   ],
   "source": [
    "topic_ids = topics.groupby('topic_id')['confidence_level'].count().sort_values()\n",
    "\n",
    "for i in [10000, 50000, 100000, 200000]:\n",
    "    print('Number of topics that appear more than {} times: {}'\n",
    "          .format(i, (topic_ids > i).sum()))\n",
    "\n",
    "plt.figure(figsize=(12, 4))\n",
    "sns.barplot(topic_ids.index, topic_ids.values, order=topic_ids.index, alpha=1, color=p[5])\n",
    "plt.xlabel('Document Topics', fontsize=12)\n",
    "plt.ylabel('Total occurences', fontsize=12)\n",
    "plt.show()"
   ]
  },
  {
   "cell_type": "code",
   "execution_count": 15,
   "metadata": {
    "collapsed": false
   },
   "outputs": [
    {
     "data": {
      "text/plain": [
       "116866"
      ]
     },
     "execution_count": 15,
     "metadata": {},
     "output_type": "execute_result"
    }
   ],
   "source": [
    "del topics\n",
    "del topic_ids\n",
    "gc.collect()"
   ]
  },
  {
   "cell_type": "code",
   "execution_count": 20,
   "metadata": {
    "collapsed": false
   },
   "outputs": [
    {
     "name": "stdout",
     "output_type": "stream",
     "text": [
      "2999334\n"
     ]
    },
    {
     "data": {
      "text/html": [
       "<div>\n",
       "<table border=\"1\" class=\"dataframe\">\n",
       "  <thead>\n",
       "    <tr style=\"text-align: right;\">\n",
       "      <th></th>\n",
       "      <th>document_id</th>\n",
       "      <th>source_id</th>\n",
       "      <th>publisher_id</th>\n",
       "      <th>publish_time</th>\n",
       "    </tr>\n",
       "  </thead>\n",
       "  <tbody>\n",
       "    <tr>\n",
       "      <th>0</th>\n",
       "      <td>1595802</td>\n",
       "      <td>1.0</td>\n",
       "      <td>603.0</td>\n",
       "      <td>2016-06-05 00:00:00</td>\n",
       "    </tr>\n",
       "    <tr>\n",
       "      <th>1</th>\n",
       "      <td>1524246</td>\n",
       "      <td>1.0</td>\n",
       "      <td>603.0</td>\n",
       "      <td>2016-05-26 11:00:00</td>\n",
       "    </tr>\n",
       "    <tr>\n",
       "      <th>2</th>\n",
       "      <td>1617787</td>\n",
       "      <td>1.0</td>\n",
       "      <td>603.0</td>\n",
       "      <td>2016-05-27 00:00:00</td>\n",
       "    </tr>\n",
       "    <tr>\n",
       "      <th>3</th>\n",
       "      <td>1615583</td>\n",
       "      <td>1.0</td>\n",
       "      <td>603.0</td>\n",
       "      <td>2016-06-07 00:00:00</td>\n",
       "    </tr>\n",
       "    <tr>\n",
       "      <th>4</th>\n",
       "      <td>1615460</td>\n",
       "      <td>1.0</td>\n",
       "      <td>603.0</td>\n",
       "      <td>2016-06-20 00:00:00</td>\n",
       "    </tr>\n",
       "  </tbody>\n",
       "</table>\n",
       "</div>"
      ],
      "text/plain": [
       "   document_id  source_id  publisher_id         publish_time\n",
       "0      1595802        1.0         603.0  2016-06-05 00:00:00\n",
       "1      1524246        1.0         603.0  2016-05-26 11:00:00\n",
       "2      1617787        1.0         603.0  2016-05-27 00:00:00\n",
       "3      1615583        1.0         603.0  2016-06-07 00:00:00\n",
       "4      1615460        1.0         603.0  2016-06-20 00:00:00"
      ]
     },
     "execution_count": 20,
     "metadata": {},
     "output_type": "execute_result"
    }
   ],
   "source": [
    "documents_meta = pd.read_csv('documents_meta.csv')\n",
    "print(len(documents_meta))\n",
    "documents_meta.head()"
   ]
  },
  {
   "cell_type": "markdown",
   "metadata": {},
   "source": [
    "This file contains data about the publisher and time the ad was published. We can try to use these are features for training the neural network. "
   ]
  },
  {
   "cell_type": "code",
   "execution_count": 21,
   "metadata": {
    "collapsed": false
   },
   "outputs": [
    {
     "data": {
      "text/plain": [
       "219"
      ]
     },
     "execution_count": 21,
     "metadata": {},
     "output_type": "execute_result"
    }
   ],
   "source": [
    "del documents_meta\n",
    "gc.collect()"
   ]
  },
  {
   "cell_type": "markdown",
   "metadata": {},
   "source": [
    "The page views file has information about the actual clicks. The file is 100GB uncompressed so we take a look at a sample subset here. "
   ]
  },
  {
   "cell_type": "code",
   "execution_count": 23,
   "metadata": {
    "collapsed": false
   },
   "outputs": [
    {
     "data": {
      "text/html": [
       "<div>\n",
       "<table border=\"1\" class=\"dataframe\">\n",
       "  <thead>\n",
       "    <tr style=\"text-align: right;\">\n",
       "      <th></th>\n",
       "      <th>uuid</th>\n",
       "      <th>document_id</th>\n",
       "      <th>timestamp</th>\n",
       "      <th>platform</th>\n",
       "      <th>geo_location</th>\n",
       "      <th>traffic_source</th>\n",
       "    </tr>\n",
       "  </thead>\n",
       "  <tbody>\n",
       "    <tr>\n",
       "      <th>0</th>\n",
       "      <td>1fd5f051fba643</td>\n",
       "      <td>120</td>\n",
       "      <td>31905835</td>\n",
       "      <td>1</td>\n",
       "      <td>RS</td>\n",
       "      <td>2</td>\n",
       "    </tr>\n",
       "    <tr>\n",
       "      <th>1</th>\n",
       "      <td>8557aa9004be3b</td>\n",
       "      <td>120</td>\n",
       "      <td>32053104</td>\n",
       "      <td>1</td>\n",
       "      <td>VN&gt;44</td>\n",
       "      <td>2</td>\n",
       "    </tr>\n",
       "    <tr>\n",
       "      <th>2</th>\n",
       "      <td>c351b277a358f0</td>\n",
       "      <td>120</td>\n",
       "      <td>54013023</td>\n",
       "      <td>1</td>\n",
       "      <td>KR&gt;12</td>\n",
       "      <td>1</td>\n",
       "    </tr>\n",
       "    <tr>\n",
       "      <th>3</th>\n",
       "      <td>8205775c5387f9</td>\n",
       "      <td>120</td>\n",
       "      <td>44196592</td>\n",
       "      <td>1</td>\n",
       "      <td>IN&gt;16</td>\n",
       "      <td>2</td>\n",
       "    </tr>\n",
       "    <tr>\n",
       "      <th>4</th>\n",
       "      <td>9cb0ccd8458371</td>\n",
       "      <td>120</td>\n",
       "      <td>65817371</td>\n",
       "      <td>1</td>\n",
       "      <td>US&gt;CA&gt;807</td>\n",
       "      <td>2</td>\n",
       "    </tr>\n",
       "  </tbody>\n",
       "</table>\n",
       "</div>"
      ],
      "text/plain": [
       "             uuid  document_id  timestamp  platform geo_location  \\\n",
       "0  1fd5f051fba643          120   31905835         1           RS   \n",
       "1  8557aa9004be3b          120   32053104         1        VN>44   \n",
       "2  c351b277a358f0          120   54013023         1        KR>12   \n",
       "3  8205775c5387f9          120   44196592         1        IN>16   \n",
       "4  9cb0ccd8458371          120   65817371         1    US>CA>807   \n",
       "\n",
       "   traffic_source  \n",
       "0               2  \n",
       "1               2  \n",
       "2               1  \n",
       "3               2  \n",
       "4               2  "
      ]
     },
     "execution_count": 23,
     "metadata": {},
     "output_type": "execute_result"
    }
   ],
   "source": [
    "page_views = pd.read_csv('page_views_sample.csv')\n",
    "page_views.head()"
   ]
  },
  {
   "cell_type": "code",
   "execution_count": null,
   "metadata": {
    "collapsed": true
   },
   "outputs": [],
   "source": []
  }
 ],
 "metadata": {
  "anaconda-cloud": {},
  "kernelspec": {
   "display_name": "Python [Root]",
   "language": "python",
   "name": "Python [Root]"
  },
  "language_info": {
   "codemirror_mode": {
    "name": "ipython",
    "version": 3
   },
   "file_extension": ".py",
   "mimetype": "text/x-python",
   "name": "python",
   "nbconvert_exporter": "python",
   "pygments_lexer": "ipython3",
   "version": "3.5.2"
  }
 },
 "nbformat": 4,
 "nbformat_minor": 0
}
